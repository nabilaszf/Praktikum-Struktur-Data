{
  "nbformat": 4,
  "nbformat_minor": 0,
  "metadata": {
    "colab": {
      "provenance": [],
      "authorship_tag": "ABX9TyMm/g20bRCzVF7b3oKAKDm6",
      "include_colab_link": true
    },
    "kernelspec": {
      "name": "python3",
      "display_name": "Python 3"
    },
    "language_info": {
      "name": "python"
    }
  },
  "cells": [
    {
      "cell_type": "markdown",
      "metadata": {
        "id": "view-in-github",
        "colab_type": "text"
      },
      "source": [
        "<a href=\"https://colab.research.google.com/github/nabilaszf/Praktikum-Struktur-Data/blob/main/2430506058_Tugas_StrukDat_Graph.ipynb\" target=\"_parent\"><img src=\"https://colab.research.google.com/assets/colab-badge.svg\" alt=\"Open In Colab\"/></a>"
      ]
    },
    {
      "cell_type": "code",
      "source": [
        "from collections import deque\n",
        "\n",
        "# Membuat graf tak berarah baru dengan minimal 5 simpul dan 7 sisi\n",
        "graph = {\n",
        "    'A': ['B', 'C'],\n",
        "    'B': ['A', 'C', 'D'],\n",
        "    'C': ['A', 'B', 'E'],\n",
        "    'D': ['B', 'E'],\n",
        "    'E': ['C', 'D']\n",
        "}\n",
        "\n",
        "# Fungsi untuk menampilkan graf\n",
        "def print_graph(graph):\n",
        "    for node in graph:\n",
        "        print(f\"{node} --> {graph[node]}\")\n",
        "\n",
        "# Implementasi BFS dan DFS dan modifikasi BFS agar mengembalikan list urutan kunjungan\n",
        "def bfs(graph, start):\n",
        "    visited = []\n",
        "    queue = deque([start])\n",
        "\n",
        "    while queue:\n",
        "        node = queue.popleft()\n",
        "        if node not in visited:\n",
        "            visited.append(node)\n",
        "            queue.extend(neighbor for neighbor in graph[node] if neighbor not in visited)\n",
        "    return visited\n",
        "\n",
        "def dfs(graph, start, visited=None):\n",
        "    if visited is None:\n",
        "        visited = []\n",
        "    if start not in visited:\n",
        "        visited.append(start)\n",
        "        for neighbor in graph[start]:\n",
        "            dfs(graph, neighbor, visited)\n",
        "    return visited\n",
        "\n",
        "# Fungsi untuk mencari satu jalur dari start ke end dengan DFS\n",
        "def find_path(graph, start, end, path=[]):\n",
        "    path = path + [start]\n",
        "    if start == end:\n",
        "        return path\n",
        "    for node in graph[start]:\n",
        "        if node not in path:\n",
        "            newpath = find_path(graph, node, end, path)\n",
        "            if newpath:\n",
        "                return newpath\n",
        "    return None\n",
        "\n",
        "# Fungsi untuk mengecek apakah semua simpul dalam graf saling terhubung\n",
        "def is_connected(graph):\n",
        "    start_node = next(iter(graph))\n",
        "    visited_nodes = dfs(graph, start_node)\n",
        "    return len(visited_nodes) == len(graph)\n",
        "\n",
        "print(\"Graph:\")\n",
        "print_graph(graph)\n",
        "\n",
        "print(\"\\nBFS dari A:\", bfs(graph, 'A'))\n",
        "print(\"DFS dari A:\", dfs(graph, 'A'))\n",
        "print(\"Path dari A ke E:\", find_path(graph, 'A', 'E'))\n",
        "print(\"Apakah graf terkoneksi?\", is_connected(graph))\n"
      ],
      "metadata": {
        "colab": {
          "base_uri": "https://localhost:8080/"
        },
        "id": "78fqU5-E0pHm",
        "outputId": "e1c670b3-ee47-4a4b-bcc2-7ebee14de912"
      },
      "execution_count": 3,
      "outputs": [
        {
          "output_type": "stream",
          "name": "stdout",
          "text": [
            "Graph:\n",
            "A --> ['B', 'C']\n",
            "B --> ['A', 'C', 'D']\n",
            "C --> ['A', 'B', 'E']\n",
            "D --> ['B', 'E']\n",
            "E --> ['C', 'D']\n",
            "\n",
            "BFS dari A: ['A', 'B', 'C', 'D', 'E']\n",
            "DFS dari A: ['A', 'B', 'C', 'E', 'D']\n",
            "Path dari A ke E: ['A', 'B', 'C', 'E']\n",
            "Apakah graf terkoneksi? True\n"
          ]
        }
      ]
    },
    {
      "cell_type": "code",
      "source": [],
      "metadata": {
        "id": "HPqI6F7l1XXS"
      },
      "execution_count": null,
      "outputs": []
    }
  ]
}
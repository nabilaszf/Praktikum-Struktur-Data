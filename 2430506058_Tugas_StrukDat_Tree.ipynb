{
  "nbformat": 4,
  "nbformat_minor": 0,
  "metadata": {
    "colab": {
      "provenance": [],
      "authorship_tag": "ABX9TyNuxsw6FhAeGa3F0RH3aCNF",
      "include_colab_link": true
    },
    "kernelspec": {
      "name": "python3",
      "display_name": "Python 3"
    },
    "language_info": {
      "name": "python"
    }
  },
  "cells": [
    {
      "cell_type": "markdown",
      "metadata": {
        "id": "view-in-github",
        "colab_type": "text"
      },
      "source": [
        "<a href=\"https://colab.research.google.com/github/nabilaszf/Praktikum-Struktur-Data/blob/main/2430506058_Tugas_StrukDat_Tree.ipynb\" target=\"_parent\"><img src=\"https://colab.research.google.com/assets/colab-badge.svg\" alt=\"Open In Colab\"/></a>"
      ]
    },
    {
      "cell_type": "markdown",
      "source": [
        "## Tugas 1: Program Struktur Binary Tree Manual\n",
        "\n",
        "**Deskripsi:**\n",
        "Buat program Python untuk membangun **binary tree seacar manual** (bukan BST) berdasarkan data yang Anda olah dari nama dan NPM.\n",
        "\n",
        "**Ketentuan:**\n",
        "- Node root adalah **jumlah huruf pada nama lengkap Anda**.\n",
        "- Anak kiri root: jumlah huruf vokal (a, i, u, e, o) pada nama anda.\n",
        "- Anak kanan root: dua digit terakhir dari NPM Anda.\n",
        "- Tambahkan satu level lagi (anak dari anak) berdasarkan tanggal lahir Anda:\n",
        "  - Anak kiri dari node kiri: tanggal (DD)\n",
        "  - Anak kanan dari node kanan: bulan (MM)\n",
        "- Tampilkan tree dengan **inorder traversal**.\n",
        "\n",
        "**Output yang Diharapkan:**\n",
        "- Struktur tree ditampilkan menggunakan print traversal.\n",
        "- Tambahkan komentar di atas program: \"Struktur Tree berdasarkan identitas saya\"."
      ],
      "metadata": {
        "id": "VwRhkw_dqNZ5"
      }
    },
    {
      "cell_type": "code",
      "source": [
        "# Struktur Tree berdasarkan identitas saya\n",
        "class Node:\n",
        "    def __init__(self, data):\n",
        "        self.data = data\n",
        "        self.left = None\n",
        "        self.right = None\n",
        "\n",
        "root = Node(27)\n",
        "root.left = Node(11)\n",
        "root.right = Node(58)\n",
        "root.left.left = Node(7)\n",
        "root.right.right = Node(1)\n",
        "\n",
        "def inorder(node):\n",
        "    if node:\n",
        "        inorder(node.left)\n",
        "        print(node.data, end = ' ')\n",
        "        inorder(node.right)\n",
        "\n",
        "print(\"Hasil inorder traversal dari binary tree:\")\n",
        "inorder(root)"
      ],
      "metadata": {
        "colab": {
          "base_uri": "https://localhost:8080/"
        },
        "id": "-n2V1BBgqYTB",
        "outputId": "a6f41ac1-583e-4195-f68a-60b6aac0ec50"
      },
      "execution_count": 5,
      "outputs": [
        {
          "output_type": "stream",
          "name": "stdout",
          "text": [
            "Hasil inorder traversal dari binary tree:\n",
            "7 11 27 58 1 "
          ]
        }
      ]
    },
    {
      "cell_type": "markdown",
      "source": [
        "## Tugas 2: Program Binary Search Tree (BST)\n",
        "\n",
        "**Deskripsi:**\n",
        "Buat program Python untuk membentuk BST secara otomatis dari data numerik yang unik bagi Anda.\n",
        "\n",
        "**Ketentuan:**\n",
        "- Buat daftar 7 angka dengan aturan berikut:\n",
        "  1. Dua digit terakhir NPM Anda\n",
        "  2. Tanggal lahir (DDMM, pisahkan menjadi dua angka: DD dan MM)\n",
        "  3. ASCII dari huruf pertama dan kedua nama depan Anda\n",
        "  4. Tambahkan dua angka bebas (boleh favorit Anda)\n",
        "- Sisipkan semua angka tersebut ke dalam BST.\n",
        "- Tampilkan hasil traversal:\n",
        "  - Inorder\n",
        "  - Preorder\n",
        "  - Postorder\n",
        "- Tambahkan fitur pencarian:\n",
        "  - Cari angka dengan nilai dua digit terakhir NPM Anda\n",
        "  - Cari angka yang tidak termasuk dalam list (buat sendiri)\n",
        "\n",
        "**Output yang DIharapkan:**\n",
        "- Hasil setiap traversal tercetak rapi\n",
        "- Hasil pencarian menunjukkan apakah data ditemukan atau tidak\n",
        "- Tambahkan komentar penjelasan pendek di setiap bagian kode"
      ],
      "metadata": {
        "id": "pMbe9X6fumDl"
      }
    },
    {
      "cell_type": "code",
      "execution_count": 17,
      "metadata": {
        "colab": {
          "base_uri": "https://localhost:8080/"
        },
        "id": "xjMyOm1OqImJ",
        "outputId": "aa1f8fae-86bd-4046-be5c-8c626666a23c"
      },
      "outputs": [
        {
          "output_type": "stream",
          "name": "stdout",
          "text": [
            "Inorder traversal:\n",
            "1 7 71 97 110 58 \n",
            "Preorder traversal:\n",
            "58 7 1 110 97 71 \n",
            "Postorder traversal:\n",
            "1 7 71 97 110 58  \n",
            " \n",
            "Angka dengan nilai dua digit terakhir NPM:\n",
            "58 ditemukan dalam BST.\n",
            " \n",
            "Uji coba pencarian angka yang tidak termasuk dalam list:\n",
            "27 tidak ditemukan dalam BST.\n"
          ]
        }
      ],
      "source": [
        "class Node:\n",
        "    def __init__(self, data):\n",
        "        self.data = data\n",
        "        self.left = None\n",
        "        self.right = None\n",
        "\n",
        "class BinarySearchTree:\n",
        "    def __init__(self):\n",
        "        self.root = None\n",
        "    def insert(self, root, data):\n",
        "        if root is None:\n",
        "            return Node(data)\n",
        "        if data < root.data:\n",
        "            root.left = self.insert(root.left, data)\n",
        "        else:\n",
        "            root.right = self.insert(root.right, data)\n",
        "        return root\n",
        "\n",
        "def inorder(node):\n",
        "    if node:\n",
        "        inorder(node.left)\n",
        "        inorder(node.right)\n",
        "        print(node.data, end = ' ')\n",
        "\n",
        "def preorder(node):\n",
        "    if node:\n",
        "        print(node.data, end = ' ')\n",
        "        preorder(node.left)\n",
        "        preorder(node.right)\n",
        "\n",
        "# Fungsi Postorder Traversal\n",
        "def postorder(node):\n",
        "    if node:\n",
        "        postorder(node.left)\n",
        "        postorder(node.right)\n",
        "        print(node.data, end = ' ')\n",
        "\n",
        "# Fungsi Pencarian Nilai\n",
        "def search(node, key):\n",
        "    if node is None or node.data == key:\n",
        "        return node\n",
        "    if key < node.data:\n",
        "        return search(node.left, key)\n",
        "    return search(node.right, key)\n",
        "\n",
        "# Ketentuan Program BST\n",
        "bst = BinarySearchTree()\n",
        "root = None\n",
        "data_list = [58, 7, 1, 110, 97, 71]\n",
        "for value in data_list:\n",
        "    root = bst.insert(root, value)\n",
        "\n",
        "# Menampilkan Hasil Traversal\n",
        "print(\"Inorder traversal:\")\n",
        "inorder(root)\n",
        "print(\"\\nPreorder traversal:\")\n",
        "preorder(root)\n",
        "print(\"\\nPostorder traversal:\")\n",
        "postorder(root)\n",
        "print(\" \")\n",
        "print(\" \")\n",
        "\n",
        "# Menguji Fungsi Pencarian\n",
        "key = 58\n",
        "result = search(root, key)\n",
        "print(\"Angka dengan nilai dua digit terakhir NPM:\")\n",
        "if result:\n",
        "    print(f\"{key} ditemukan dalam BST.\")\n",
        "else:\n",
        "    print(f\"{key} tidak ditemukan dalam BST.\")\n",
        "print(\" \")\n",
        "key = 27\n",
        "result = search(root, key)\n",
        "print(\"Uji coba pencarian angka yang tidak termasuk dalam list:\")\n",
        "if result:\n",
        "    print(f\"{key} ditemukan dalam BST.\")\n",
        "else:\n",
        "    print(f\"{key} tidak ditemukan dalam BST.\")\n"
      ]
    },
    {
      "cell_type": "code",
      "source": [
        "h"
      ],
      "metadata": {
        "id": "H_oIHJX90jOG"
      },
      "execution_count": null,
      "outputs": []
    }
  ]
}
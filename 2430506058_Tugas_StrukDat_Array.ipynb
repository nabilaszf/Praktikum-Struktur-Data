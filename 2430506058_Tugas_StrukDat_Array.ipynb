{
  "nbformat": 4,
  "nbformat_minor": 0,
  "metadata": {
    "colab": {
      "provenance": [],
      "authorship_tag": "ABX9TyNK7c1akUZOqF0jBgRVGeMU",
      "include_colab_link": true
    },
    "kernelspec": {
      "name": "python3",
      "display_name": "Python 3"
    },
    "language_info": {
      "name": "python"
    }
  },
  "cells": [
    {
      "cell_type": "markdown",
      "metadata": {
        "id": "view-in-github",
        "colab_type": "text"
      },
      "source": [
        "<a href=\"https://colab.research.google.com/github/nabilaszf/Praktikum-Struktur-Data/blob/main/2430506058_Tugas_StrukDat_Array.ipynb\" target=\"_parent\"><img src=\"https://colab.research.google.com/assets/colab-badge.svg\" alt=\"Open In Colab\"/></a>"
      ]
    },
    {
      "cell_type": "code",
      "execution_count": null,
      "metadata": {
        "colab": {
          "base_uri": "https://localhost:8080/"
        },
        "id": "MlnTkNoB5pot",
        "outputId": "c09e702d-a0e6-434c-9df2-9693fb615f64"
      },
      "outputs": [
        {
          "output_type": "stream",
          "name": "stdout",
          "text": [
            "Masukkan ukuran peta: 3\n",
            "Selamat datang di Treasure Hunt! Peta memiliki 3 lokasi (0 hingga 2).\n",
            "\n",
            " Harta karun telah disembunyikan! Sekarang giliran pemain menebak!\n",
            "Cobalah untuk menemukan harta karun dengan menebak indeks yang benar.\n",
            "\n",
            " Peta saat ini:  ['_', '_', '_']\n",
            "Tebak indeks harta karun (0-2): 2\n",
            "Selamat! Kamu menemukan harta karun di lokasi: 2\n"
          ]
        }
      ],
      "source": [
        "\"\"\" TREASURE HUNT \"\"\"\n",
        "# Ukuran Peta\n",
        "import random\n",
        "size = int(input(\"Masukkan ukuran peta: \"))\n",
        "\n",
        "# Membuat peta dengan harta karun tersembunyi\n",
        "treasure_map = [\"_\" for _ in range(size)]\n",
        "\n",
        "# Tentukan lokasi harta karun secara manual\n",
        "print(f\"Selamat datang di Treasure Hunt! Peta memiliki {size} lokasi (0 hingga {size-1}).\")\n",
        "treasure_index = random.randint(0, size-1)\n",
        "\n",
        "\n",
        "treasure_map[treasure_index] = \"X\" # Menyembunyikan harta karun di lokasi yang dipilih\n",
        "\n",
        "# Fungsi untuk memulai permainan\n",
        "def play_treasure_hunt():\n",
        "    print(\"\\n Harta karun telah disembunyikan! Sekarang giliran pemain menebak!\")\n",
        "    print(\"Cobalah untuk menemukan harta karun dengan menebak indeks yang benar.\")\n",
        "\n",
        "    # Loop Permainan\n",
        "    while True:\n",
        "      # Menampilkan peta tersembunyi kepada pemain\n",
        "      print(\"\\n Peta saat ini: \", [\"_\" for _ in range(size)])\n",
        "\n",
        "      # Input Pemain\n",
        "      try:\n",
        "        guess = int(input(f\"Tebak indeks harta karun (0-{size-1}): \"))\n",
        "      except ValueError:\n",
        "        print(\"Masukkan angka yang valid!\")\n",
        "        continue\n",
        "\n",
        "      # Validasi input\n",
        "      if guess < 0 or guess >= size:\n",
        "        print(\"Tebakan tidak valid. Masukkan angka dalam rentang yang benar!\")\n",
        "        continue\n",
        "\n",
        "      # Mengecek apakah tebakan benar\n",
        "      if treasure_map[guess] == \"X\":\n",
        "          print(\"Selamat! Kamu menemukan harta karun di lokasi:\", guess)\n",
        "          break\n",
        "      else:\n",
        "          print(\"Tidak ada harta di lokasi ini. Coba lagi!\")\n",
        "\n",
        "      print(\"Terima kasih sudah bermain!\")\n",
        "\n",
        "play_treasure_hunt()"
      ]
    },
    {
      "cell_type": "code",
      "source": [],
      "metadata": {
        "id": "rLB3Oqkg5qnc"
      },
      "execution_count": null,
      "outputs": []
    }
  ]
}
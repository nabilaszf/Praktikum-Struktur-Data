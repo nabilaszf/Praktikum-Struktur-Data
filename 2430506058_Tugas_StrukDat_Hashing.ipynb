{
  "nbformat": 4,
  "nbformat_minor": 0,
  "metadata": {
    "colab": {
      "provenance": [],
      "authorship_tag": "ABX9TyPWQLsTbJeZgR/2XqeabNW8",
      "include_colab_link": true
    },
    "kernelspec": {
      "name": "python3",
      "display_name": "Python 3"
    },
    "language_info": {
      "name": "python"
    }
  },
  "cells": [
    {
      "cell_type": "markdown",
      "metadata": {
        "id": "view-in-github",
        "colab_type": "text"
      },
      "source": [
        "<a href=\"https://colab.research.google.com/github/nabilaszf/Praktikum-Struktur-Data/blob/main/2430506058_Tugas_StrukDat_Hashing.ipynb\" target=\"_parent\"><img src=\"https://colab.research.google.com/assets/colab-badge.svg\" alt=\"Open In Colab\"/></a>"
      ]
    },
    {
      "cell_type": "code",
      "source": [
        "# Eksperimen Sederhana Linear Probing\n",
        "\n",
        "class LinearProbingHashTable:\n",
        "    def __init__(self, size):\n",
        "        self.size = size\n",
        "        self.table = [None] * size\n",
        "\n",
        "    def hash_function(self, key):\n",
        "        return hash(key) % self.size\n",
        "\n",
        "    def insert(self, key, value):\n",
        "        index = self.hash_function(key)\n",
        "        original_index = index\n",
        "\n",
        "        while self.table[index] is not None:\n",
        "            if self.table[index] [0] == key:\n",
        "                break\n",
        "            index = (index + 1) % self.size\n",
        "            if index == original_index:\n",
        "                raise Exception(\"Hash table penuh.\")\n",
        "\n",
        "        self.table[index] = (key, value)\n",
        "\n",
        "    def search(self, key):\n",
        "        index = self.hash_function(key)\n",
        "        original_index = index\n",
        "\n",
        "        while self.table[index] is not None:\n",
        "            if self.table[index] [0] == key:\n",
        "                return self.table[index] [1]\n",
        "            index = (index + 1) % self.size\n",
        "            if index == original_index:\n",
        "                break\n",
        "        return None\n",
        "\n",
        "# Contoh penggunaan\n",
        "ht = LinearProbingHashTable(5)\n",
        "ht.insert(\"A\", 10)\n",
        "ht.insert(\"B\", 20)\n",
        "ht.insert(\"C\", 30)\n",
        "ht.insert(\"D\", 40)\n",
        "ht.insert(\"E\", 50)\n",
        "\n",
        "print(\"Nilai untuk 'A':\", ht.search(\"A\"))\n",
        "print(\"Nilai untuk 'B':\", ht.search(\"B\"))\n",
        "print(\"Nilai untuk 'C':\", ht.search(\"C\"))\n",
        "print(\"Nilai untuk 'D':\", ht.search(\"D\"))\n",
        "print(\"Nilai untuk 'E':\", ht.search(\"E\"))\n",
        "\n",
        "# Fungsi untuk mencetak isi array self.table\n",
        "print(\"\\nIsi array self.table setelah semua data dimasukkan:\")\n",
        "for i, item in enumerate(ht.table):\n",
        "    print(f\"Index {i}: {item}\")\n"
      ],
      "metadata": {
        "colab": {
          "base_uri": "https://localhost:8080/"
        },
        "id": "WVaYEt_LbBHZ",
        "outputId": "f055fe7d-5bff-4122-ac1d-684650422fd6"
      },
      "execution_count": null,
      "outputs": [
        {
          "output_type": "stream",
          "name": "stdout",
          "text": [
            "Nilai untuk 'A': 10\n",
            "Nilai untuk 'B': 20\n",
            "Nilai untuk 'C': 30\n",
            "Nilai untuk 'D': 40\n",
            "Nilai untuk 'E': 50\n",
            "\n",
            "Isi array self.table setelah semua data dimasukkan:\n",
            "Index 0: ('C', 30)\n",
            "Index 1: ('A', 10)\n",
            "Index 2: ('B', 20)\n",
            "Index 3: ('D', 40)\n",
            "Index 4: ('E', 50)\n"
          ]
        }
      ]
    },
    {
      "cell_type": "code",
      "source": [
        "# Percobaan Dasar Chaining\n",
        "\n",
        "class ChainingHashTable:\n",
        "    def __init__(self, size):\n",
        "        self.size = size\n",
        "        self.table = [[] for _ in range(size)]\n",
        "\n",
        "    def hash_function(self, key):\n",
        "        return hash(key) % self.size\n",
        "\n",
        "    def insert(self, key, value):\n",
        "        index = self.hash_function(key)\n",
        "        for i, (k, v) in enumerate(self.table[index]):\n",
        "            if k == key:\n",
        "                self.table[index][i] = (key, value)\n",
        "                return\n",
        "        self.table[index].append((key, value))\n",
        "\n",
        "    def search(self, key):\n",
        "        index = self.hash_function(key)\n",
        "        for k, v in self.table[index]:\n",
        "            if k == key:\n",
        "                return v\n",
        "        return None\n",
        "\n",
        "# Contoh penggunaan\n",
        "ht = ChainingHashTable(3)\n",
        "ht.insert(\"Apel\", 100)\n",
        "ht.insert(\"Melon\", 200)\n",
        "ht.insert(\"Lemon\", 300)\n",
        "ht.insert(\"Pisang\", 400)\n",
        "\n",
        "\n",
        "print(\"Nilai untuk 'Apel':\", ht.search(\"Apel\"))\n",
        "print(\"Nilai untuk 'Melon':\", ht.search(\"Melon\"))\n",
        "print(\"Nilai untuk 'Lemon':\", ht.search(\"Lemon\"))\n",
        "print(\"Nilai untuk 'Pisang':\", ht.search(\"Pisang\"))\n",
        "\n",
        "# Fungsi untuk mencetak isi array self.table\n",
        "print(\"\\nIsi array self.table setelah semua data dimasukkan:\")\n",
        "for i, item in enumerate(ht.table):\n",
        "    print(f\"Index {i}: {item}\")"
      ],
      "metadata": {
        "colab": {
          "base_uri": "https://localhost:8080/"
        },
        "id": "3YkYh8u6eOrS",
        "outputId": "15779add-94d3-417a-a578-cab3ee23e072"
      },
      "execution_count": null,
      "outputs": [
        {
          "output_type": "stream",
          "name": "stdout",
          "text": [
            "Nilai untuk 'Apel': 100\n",
            "Nilai untuk 'Melon': 200\n",
            "Nilai untuk 'Lemon': 300\n",
            "Nilai untuk 'Pisang': 400\n",
            "\n",
            "Isi array self.table setelah semua data dimasukkan:\n",
            "Index 0: [('Lemon', 300)]\n",
            "Index 1: []\n",
            "Index 2: [('Apel', 100), ('Melon', 200), ('Pisang', 400)]\n"
          ]
        }
      ]
    },
    {
      "cell_type": "code",
      "source": [],
      "metadata": {
        "id": "1mdwTrUCl4uS"
      },
      "execution_count": null,
      "outputs": []
    }
  ]
}
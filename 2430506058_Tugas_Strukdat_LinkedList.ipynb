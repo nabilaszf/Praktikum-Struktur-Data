{
  "nbformat": 4,
  "nbformat_minor": 0,
  "metadata": {
    "colab": {
      "provenance": [],
      "authorship_tag": "ABX9TyMDvES3ZgtWlY1PDlsdqBWa",
      "include_colab_link": true
    },
    "kernelspec": {
      "name": "python3",
      "display_name": "Python 3"
    },
    "language_info": {
      "name": "python"
    }
  },
  "cells": [
    {
      "cell_type": "markdown",
      "metadata": {
        "id": "view-in-github",
        "colab_type": "text"
      },
      "source": [
        "<a href=\"https://colab.research.google.com/github/nabilaszf/Praktikum-Struktur-Data/blob/main/2430506058_Tugas_Strukdat_LinkedList.ipynb\" target=\"_parent\"><img src=\"https://colab.research.google.com/assets/colab-badge.svg\" alt=\"Open In Colab\"/></a>"
      ]
    },
    {
      "cell_type": "code",
      "execution_count": 1,
      "metadata": {
        "colab": {
          "base_uri": "https://localhost:8080/"
        },
        "id": "Ekom42o7EECo",
        "outputId": "e5876731-66d9-49b5-8abd-a63005e870bd"
      },
      "outputs": [
        {
          "output_type": "stream",
          "name": "stdout",
          "text": [
            "Masukkan nama satpam ke-1: Senandung Marimby Zahira Malika\n",
            "Masukkan nama satpam ke-2: Farrel Apriandry Ciu\n",
            "Masukkan nama satpam ke-3: Zurich Sabil\n",
            "Masukkan nama satpam ke-4: Nabila Syafiqah Zahran Firlina\n",
            "\n",
            "💡 Jadwal Piket Satpam Selama 2 Minggu:\n",
            "\n",
            "Hari 1: Senandung Marimby Zahira Malika\n",
            "Hari 2: Farrel Apriandry Ciu\n",
            "Hari 3: Zurich Sabil\n",
            "Hari 4: Nabila Syafiqah Zahran Firlina\n",
            "Hari 5: Senandung Marimby Zahira Malika\n",
            "Hari 6: Farrel Apriandry Ciu\n",
            "Hari 7: Zurich Sabil\n",
            "Hari 8: Nabila Syafiqah Zahran Firlina\n",
            "Hari 9: Senandung Marimby Zahira Malika\n",
            "Hari 10: Farrel Apriandry Ciu\n",
            "Hari 11: Zurich Sabil\n",
            "Hari 12: Nabila Syafiqah Zahran Firlina\n",
            "Hari 13: Senandung Marimby Zahira Malika\n",
            "Hari 14: Farrel Apriandry Ciu\n"
          ]
        }
      ],
      "source": [
        "class Node:\n",
        "    def __init__(self, name):\n",
        "        self.name = name\n",
        "        self.next = None\n",
        "\n",
        "class CircularLinkedList:\n",
        "    def __init__(self):\n",
        "        self.head = None\n",
        "\n",
        "    def add(self, name):\n",
        "        new_node = Node(name)\n",
        "        if not self.head:\n",
        "            self.head = new_node\n",
        "            self.head.next = self.head\n",
        "        else:\n",
        "            temp = self.head\n",
        "            while temp.next != self.head:\n",
        "                temp = temp.next\n",
        "            temp.next = new_node\n",
        "            new_node.next = self.head\n",
        "\n",
        "    def get_rotation(self):\n",
        "        temp = self.head\n",
        "        while True:\n",
        "            yield temp.name\n",
        "            temp = temp.next\n",
        "\n",
        "# Input nama satpam\n",
        "satpams = []\n",
        "for i in range(4):\n",
        "    name = input(f\"Masukkan nama satpam ke-{i+1}: \")\n",
        "    satpams.append(name)\n",
        "\n",
        "# Membuat Circular Linked List\n",
        "cll = CircularLinkedList()\n",
        "for name in satpams:\n",
        "    cll.add(name)\n",
        "\n",
        "# Cetak jadwal piket selama 14 hari\n",
        "print(\"\\n\\U0001F4A1 Jadwal Piket Satpam Selama 2 Minggu:\\n\")\n",
        "rotation = cll.get_rotation()\n",
        "for day in range(1, 15):\n",
        "    print(f\"Hari {day}: {next(rotation)}\")"
      ]
    }
  ]
}
{
  "nbformat": 4,
  "nbformat_minor": 0,
  "metadata": {
    "colab": {
      "provenance": [],
      "authorship_tag": "ABX9TyOT23ZOTDgKQ4En3eC6AKwS",
      "include_colab_link": true
    },
    "kernelspec": {
      "name": "python3",
      "display_name": "Python 3"
    },
    "language_info": {
      "name": "python"
    }
  },
  "cells": [
    {
      "cell_type": "markdown",
      "metadata": {
        "id": "view-in-github",
        "colab_type": "text"
      },
      "source": [
        "<a href=\"https://colab.research.google.com/github/nabilaszf/Praktikum-Struktur-Data/blob/main/2430506058_Tugas_Strukdat_Searching.ipynb\" target=\"_parent\"><img src=\"https://colab.research.google.com/assets/colab-badge.svg\" alt=\"Open In Colab\"/></a>"
      ]
    },
    {
      "cell_type": "code",
      "execution_count": 2,
      "metadata": {
        "colab": {
          "base_uri": "https://localhost:8080/"
        },
        "id": "850IZDAxQya7",
        "outputId": "21d1efb7-d5e9-40f7-834e-12fb05ad3423"
      },
      "outputs": [
        {
          "output_type": "stream",
          "name": "stdout",
          "text": [
            "Daftar Angka Acak:\n",
            "[3, 17, 28, 39, 50, 59, 74, 111, 122, 123, 127, 129, 141, 151, 156, 163, 177, 180, 212, 232, 235, 250, 251, 262, 268, 275, 279, 285, 294, 299, 308, 313, 314, 325, 346, 347, 348, 351, 355, 357, 361, 373, 374, 381, 382, 385, 391, 401, 405, 410, 474, 476, 511, 519, 522, 534, 547, 559, 590, 593, 598, 619, 630, 631, 653, 659, 664, 665, 691, 698, 707, 711, 721, 723, 730, 745, 747, 754, 757, 758, 762, 768, 778, 783, 794, 813, 814, 828, 833, 864, 875, 909, 937, 943, 944, 951, 967, 978, 992, 994]\n",
            "\n",
            "Hasil Perbandingan Algoritma Pencarian:\n",
            "+-----------------------+-----------------------+\n",
            "| Algoritma Pencarian   |   Jumlah Perbandingan |\n",
            "+=======================+=======================+\n",
            "| Linear Search         |                    60 |\n",
            "+-----------------------+-----------------------+\n",
            "| Binary Search         |                     6 |\n",
            "+-----------------------+-----------------------+\n",
            "| Jump Search           |                    15 |\n",
            "+-----------------------+-----------------------+\n"
          ]
        }
      ],
      "source": [
        "import random\n",
        "import math\n",
        "from tabulate import tabulate\n",
        "\n",
        "def linear_search(daftar_angka, target):\n",
        "    jumlah_perbandingan = 0\n",
        "    for angka in daftar_angka:\n",
        "        jumlah_perbandingan += 1\n",
        "        if angka == target:\n",
        "            return jumlah_perbandingan\n",
        "    return jumlah_perbandingan\n",
        "\n",
        "def binary_search(daftar_angka, target):\n",
        "    kiri, kanan = 0, len(daftar_angka) - 1\n",
        "    jumlah_perbandingan = 0\n",
        "    while kiri <= kanan:\n",
        "        tengah = (kiri + kanan) // 2\n",
        "        jumlah_perbandingan += 1\n",
        "        if daftar_angka[tengah] == target:\n",
        "            return jumlah_perbandingan\n",
        "        elif daftar_angka[tengah] < target:\n",
        "            kiri = tengah + 1\n",
        "        else:\n",
        "            kanan = tengah - 1\n",
        "    return jumlah_perbandingan\n",
        "\n",
        "def jump_search(daftar_angka, target):\n",
        "    panjang = len(daftar_angka)\n",
        "    langkah = int(math.sqrt(panjang))\n",
        "    sebelumnya, jumlah_perbandingan = 0, 0\n",
        "\n",
        "    while sebelumnya < panjang and daftar_angka[min(langkah, panjang) - 1] < target:\n",
        "        jumlah_perbandingan += 1\n",
        "        sebelumnya = langkah\n",
        "        langkah += int(math.sqrt(panjang))\n",
        "        if sebelumnya >= panjang:\n",
        "            return jumlah_perbandingan\n",
        "\n",
        "    for i in range(sebelumnya, min(langkah, panjang)):\n",
        "        jumlah_perbandingan += 1\n",
        "        if daftar_angka[i] == target:\n",
        "            return jumlah_perbandingan\n",
        "    return jumlah_perbandingan\n",
        "\n",
        "daftar_acak = random.sample(range(1, 1001), 100)\n",
        "daftar_acak.sort()\n",
        "\n",
        "angka_dicari = random.choice(daftar_acak)\n",
        "\n",
        "hasil_linear = linear_search(daftar_acak, angka_dicari)\n",
        "hasil_biner = binary_search(daftar_acak, angka_dicari)\n",
        "hasil_lompatan = jump_search(daftar_acak, angka_dicari)\n",
        "\n",
        "tabel_hasil = [[\"Linear Search\", hasil_linear],\n",
        "               [\"Binary Search\", hasil_biner],\n",
        "               [\"Jump Search\", hasil_lompatan]]\n",
        "\n",
        "print(\"Daftar Angka Acak:\")\n",
        "print(daftar_acak)\n",
        "print(\"\\nHasil Perbandingan Algoritma Pencarian:\")\n",
        "print(tabulate(tabel_hasil, headers=[\"Algoritma Pencarian\", \"Jumlah Perbandingan\"], tablefmt=\"grid\"))\n"
      ]
    },
    {
      "cell_type": "code",
      "source": [],
      "metadata": {
        "id": "5Gt1HLW2Q5RP"
      },
      "execution_count": null,
      "outputs": []
    },
    {
      "cell_type": "code",
      "source": [],
      "metadata": {
        "id": "3c1tsS3fRFDR"
      },
      "execution_count": null,
      "outputs": []
    }
  ]
}